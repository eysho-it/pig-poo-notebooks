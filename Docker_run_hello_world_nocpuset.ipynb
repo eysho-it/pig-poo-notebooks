{
  "nbformat": 4,
  "nbformat_minor": 0,
  "metadata": {
    "colab": {
      "provenance": []
    },
    "kernelspec": {
      "name": "python3",
      "display_name": "Python 3"
    }
  },
  "cells": [
    {
      "cell_type": "code",
      "metadata": {
        "id": "UF0v_C5-TxKu",
        "outputId": "0ebfa379-4514-477d-e52f-6a464e4c03fb",
        "colab": {
          "base_uri": "https://localhost:8080/",
          "height": 1000
        }
      },
      "source": [
        "# Install Docker.\n",
        "!apt-get -qq install docker.io"
      ],
      "execution_count": null,
      "outputs": [
        {
          "output_type": "stream",
          "text": [
            "Preconfiguring packages ...\n",
            "Selecting previously unselected package libnfnetlink0:amd64.\n",
            "(Reading database ... 144617 files and directories currently installed.)\n",
            "Preparing to unpack .../00-libnfnetlink0_1.0.1-3_amd64.deb ...\n",
            "Unpacking libnfnetlink0:amd64 (1.0.1-3) ...\n",
            "Selecting previously unselected package pigz.\n",
            "Preparing to unpack .../01-pigz_2.4-1_amd64.deb ...\n",
            "Unpacking pigz (2.4-1) ...\n",
            "Selecting previously unselected package libmnl0:amd64.\n",
            "Preparing to unpack .../02-libmnl0_1.0.4-2_amd64.deb ...\n",
            "Unpacking libmnl0:amd64 (1.0.4-2) ...\n",
            "Selecting previously unselected package iproute2.\n",
            "Preparing to unpack .../03-iproute2_4.15.0-2ubuntu1.2_amd64.deb ...\n",
            "Unpacking iproute2 (4.15.0-2ubuntu1.2) ...\n",
            "Selecting previously unselected package libatm1:amd64.\n",
            "Preparing to unpack .../04-libatm1_1%3a2.5.1-2build1_amd64.deb ...\n",
            "Unpacking libatm1:amd64 (1:2.5.1-2build1) ...\n",
            "Selecting previously unselected package libxtables12:amd64.\n",
            "Preparing to unpack .../05-libxtables12_1.6.1-2ubuntu2_amd64.deb ...\n",
            "Unpacking libxtables12:amd64 (1.6.1-2ubuntu2) ...\n",
            "Selecting previously unselected package apparmor.\n",
            "Preparing to unpack .../06-apparmor_2.12-4ubuntu5.1_amd64.deb ...\n",
            "Unpacking apparmor (2.12-4ubuntu5.1) ...\n",
            "Selecting previously unselected package libip6tc0:amd64.\n",
            "Preparing to unpack .../07-libip6tc0_1.6.1-2ubuntu2_amd64.deb ...\n",
            "Unpacking libip6tc0:amd64 (1.6.1-2ubuntu2) ...\n",
            "Selecting previously unselected package libiptc0:amd64.\n",
            "Preparing to unpack .../08-libiptc0_1.6.1-2ubuntu2_amd64.deb ...\n",
            "Unpacking libiptc0:amd64 (1.6.1-2ubuntu2) ...\n",
            "Selecting previously unselected package libnetfilter-conntrack3:amd64.\n",
            "Preparing to unpack .../09-libnetfilter-conntrack3_1.0.6-2_amd64.deb ...\n",
            "Unpacking libnetfilter-conntrack3:amd64 (1.0.6-2) ...\n",
            "Selecting previously unselected package iptables.\n",
            "Preparing to unpack .../10-iptables_1.6.1-2ubuntu2_amd64.deb ...\n",
            "Unpacking iptables (1.6.1-2ubuntu2) ...\n",
            "Selecting previously unselected package bridge-utils.\n",
            "Preparing to unpack .../11-bridge-utils_1.5-15ubuntu1_amd64.deb ...\n",
            "Unpacking bridge-utils (1.5-15ubuntu1) ...\n",
            "Selecting previously unselected package cgroupfs-mount.\n",
            "Preparing to unpack .../12-cgroupfs-mount_1.4_all.deb ...\n",
            "Unpacking cgroupfs-mount (1.4) ...\n",
            "Selecting previously unselected package runc.\n",
            "Preparing to unpack .../13-runc_1.0.0~rc10-0ubuntu1~18.04.2_amd64.deb ...\n",
            "Unpacking runc (1.0.0~rc10-0ubuntu1~18.04.2) ...\n",
            "Selecting previously unselected package containerd.\n",
            "Preparing to unpack .../14-containerd_1.3.3-0ubuntu1~18.04.2_amd64.deb ...\n",
            "Unpacking containerd (1.3.3-0ubuntu1~18.04.2) ...\n",
            "Selecting previously unselected package dns-root-data.\n",
            "Preparing to unpack .../15-dns-root-data_2018013001_all.deb ...\n",
            "Unpacking dns-root-data (2018013001) ...\n",
            "Selecting previously unselected package dnsmasq-base.\n",
            "Preparing to unpack .../16-dnsmasq-base_2.79-1_amd64.deb ...\n",
            "Unpacking dnsmasq-base (2.79-1) ...\n",
            "Selecting previously unselected package docker.io.\n",
            "Preparing to unpack .../17-docker.io_19.03.6-0ubuntu1~18.04.1_amd64.deb ...\n",
            "Unpacking docker.io (19.03.6-0ubuntu1~18.04.1) ...\n",
            "Selecting previously unselected package netcat-traditional.\n",
            "Preparing to unpack .../18-netcat-traditional_1.10-41.1_amd64.deb ...\n",
            "Unpacking netcat-traditional (1.10-41.1) ...\n",
            "Selecting previously unselected package netcat.\n",
            "Preparing to unpack .../19-netcat_1.10-41.1_all.deb ...\n",
            "Unpacking netcat (1.10-41.1) ...\n",
            "Selecting previously unselected package ubuntu-fan.\n",
            "Preparing to unpack .../20-ubuntu-fan_0.12.10_all.deb ...\n",
            "Unpacking ubuntu-fan (0.12.10) ...\n",
            "Setting up runc (1.0.0~rc10-0ubuntu1~18.04.2) ...\n",
            "Setting up dns-root-data (2018013001) ...\n",
            "Setting up netcat-traditional (1.10-41.1) ...\n",
            "update-alternatives: using /bin/nc.traditional to provide /bin/nc (nc) in auto mode\n",
            "Setting up libiptc0:amd64 (1.6.1-2ubuntu2) ...\n",
            "Setting up apparmor (2.12-4ubuntu5.1) ...\n",
            "Created symlink /etc/systemd/system/sysinit.target.wants/apparmor.service → /lib/systemd/system/apparmor.service.\n",
            "Setting up cgroupfs-mount (1.4) ...\n",
            "invoke-rc.d: could not determine current runlevel\n",
            "invoke-rc.d: policy-rc.d denied execution of start.\n",
            "Setting up containerd (1.3.3-0ubuntu1~18.04.2) ...\n",
            "Created symlink /etc/systemd/system/multi-user.target.wants/containerd.service → /lib/systemd/system/containerd.service.\n",
            "Setting up bridge-utils (1.5-15ubuntu1) ...\n",
            "Setting up libatm1:amd64 (1:2.5.1-2build1) ...\n",
            "Setting up libxtables12:amd64 (1.6.1-2ubuntu2) ...\n",
            "Setting up netcat (1.10-41.1) ...\n",
            "Setting up libnfnetlink0:amd64 (1.0.1-3) ...\n",
            "Setting up libmnl0:amd64 (1.0.4-2) ...\n",
            "Setting up pigz (2.4-1) ...\n",
            "Setting up libip6tc0:amd64 (1.6.1-2ubuntu2) ...\n",
            "Setting up libnetfilter-conntrack3:amd64 (1.0.6-2) ...\n",
            "Setting up iproute2 (4.15.0-2ubuntu1.2) ...\n",
            "Setting up iptables (1.6.1-2ubuntu2) ...\n",
            "Setting up dnsmasq-base (2.79-1) ...\n",
            "Setting up docker.io (19.03.6-0ubuntu1~18.04.1) ...\n",
            "Adding group `docker' (GID 109) ...\n",
            "Done.\n",
            "Created symlink /etc/systemd/system/sockets.target.wants/docker.socket → /lib/systemd/system/docker.socket.\n",
            "invoke-rc.d: unknown initscript, /etc/init.d/docker not found.\n",
            "invoke-rc.d: could not determine current runlevel\n",
            "Setting up ubuntu-fan (0.12.10) ...\n",
            "Created symlink /etc/systemd/system/multi-user.target.wants/ubuntu-fan.service → /lib/systemd/system/ubuntu-fan.service.\n",
            "invoke-rc.d: could not determine current runlevel\n",
            "invoke-rc.d: policy-rc.d denied execution of start.\n",
            "Processing triggers for man-db (2.8.3-2ubuntu0.1) ...\n",
            "Processing triggers for dbus (1.12.2-1ubuntu1.2) ...\n",
            "Processing triggers for libc-bin (2.27-3ubuntu1.2) ...\n",
            "/sbin/ldconfig.real: /usr/local/lib/python3.6/dist-packages/ideep4py/lib/libmkldnn.so.0 is not a symbolic link\n",
            "\n",
            "Processing triggers for systemd (237-3ubuntu10.42) ...\n"
          ],
          "name": "stdout"
        }
      ]
    },
    {
      "cell_type": "code",
      "metadata": {
        "id": "k0lFhZ3XUOfE",
        "outputId": "54691bab-81c9-4562-c743-15233e8b0738",
        "colab": {
          "base_uri": "https://localhost:8080/",
          "height": 33
        }
      },
      "source": [
        "# Check version.\n",
        "!docker --version"
      ],
      "execution_count": null,
      "outputs": [
        {
          "output_type": "stream",
          "text": [
            "Docker version 19.03.6, build 369ce74a3c\n"
          ],
          "name": "stdout"
        }
      ]
    },
    {
      "cell_type": "code",
      "metadata": {
        "id": "jpQMYsy8dZz6",
        "outputId": "ec9dcc67-8074-4ef3-8af4-2b4f6d8bffa4",
        "colab": {
          "base_uri": "https://localhost:8080/",
          "height": 33
        }
      },
      "source": [
        "# Disables cpuset to avoid error.\n",
        "!umount -vl /sys/fs/cgroup/cpuset"
      ],
      "execution_count": null,
      "outputs": [
        {
          "output_type": "stream",
          "text": [
            "umount: /sys/fs/cgroup/cpuset (cgroup) unmounted\n"
          ],
          "name": "stdout"
        }
      ]
    },
    {
      "cell_type": "code",
      "metadata": {
        "id": "IbsNh434HeJE",
        "outputId": "290f06f4-93c9-4a4d-ba03-a3b1f1f29b7b",
        "colab": {
          "base_uri": "https://localhost:8080/",
          "height": 393
        }
      },
      "source": [
        "%%shell\n",
        "mount -vt sysfs sysfs /sys -o rw,remount\n",
        "mount -vt tmpfs tmpfs /sys/fs/cgroup -o rw,remount\n",
        "mount -vt cgroup cgroup /sys/fs/cgroup/cpuset -o rw,remount,cpuset"
      ],
      "execution_count": null,
      "outputs": [
        {
          "output_type": "stream",
          "text": [
            "mount: sysfs mounted on /sys.\n",
            "mount: tmpfs mounted on /sys/fs/cgroup.\n",
            "mount: /sys/fs/cgroup/cpuset: mount point not mounted or bad option.\n"
          ],
          "name": "stdout"
        },
        {
          "output_type": "error",
          "ename": "CalledProcessError",
          "evalue": "ignored",
          "traceback": [
            "\u001b[0;31m---------------------------------------------------------------------------\u001b[0m",
            "\u001b[0;31mCalledProcessError\u001b[0m                        Traceback (most recent call last)",
            "\u001b[0;32m<ipython-input-21-3d587e768f50>\u001b[0m in \u001b[0;36m<module>\u001b[0;34m()\u001b[0m\n\u001b[0;32m----> 1\u001b[0;31m \u001b[0mget_ipython\u001b[0m\u001b[0;34m(\u001b[0m\u001b[0;34m)\u001b[0m\u001b[0;34m.\u001b[0m\u001b[0mrun_cell_magic\u001b[0m\u001b[0;34m(\u001b[0m\u001b[0;34m'shell'\u001b[0m\u001b[0;34m,\u001b[0m \u001b[0;34m''\u001b[0m\u001b[0;34m,\u001b[0m \u001b[0;34m'mount -vt sysfs sysfs /sys -o rw,remount\\nmount -vt tmpfs tmpfs /sys/fs/cgroup -o rw,remount\\nmount -vt cgroup cgroup /sys/fs/cgroup/cpuset -o rw,remount,cpuset'\u001b[0m\u001b[0;34m)\u001b[0m\u001b[0;34m\u001b[0m\u001b[0;34m\u001b[0m\u001b[0m\n\u001b[0m",
            "\u001b[0;32m/usr/local/lib/python3.6/dist-packages/IPython/core/interactiveshell.py\u001b[0m in \u001b[0;36mrun_cell_magic\u001b[0;34m(self, magic_name, line, cell)\u001b[0m\n\u001b[1;32m   2115\u001b[0m             \u001b[0mmagic_arg_s\u001b[0m \u001b[0;34m=\u001b[0m \u001b[0mself\u001b[0m\u001b[0;34m.\u001b[0m\u001b[0mvar_expand\u001b[0m\u001b[0;34m(\u001b[0m\u001b[0mline\u001b[0m\u001b[0;34m,\u001b[0m \u001b[0mstack_depth\u001b[0m\u001b[0;34m)\u001b[0m\u001b[0;34m\u001b[0m\u001b[0;34m\u001b[0m\u001b[0m\n\u001b[1;32m   2116\u001b[0m             \u001b[0;32mwith\u001b[0m \u001b[0mself\u001b[0m\u001b[0;34m.\u001b[0m\u001b[0mbuiltin_trap\u001b[0m\u001b[0;34m:\u001b[0m\u001b[0;34m\u001b[0m\u001b[0;34m\u001b[0m\u001b[0m\n\u001b[0;32m-> 2117\u001b[0;31m                 \u001b[0mresult\u001b[0m \u001b[0;34m=\u001b[0m \u001b[0mfn\u001b[0m\u001b[0;34m(\u001b[0m\u001b[0mmagic_arg_s\u001b[0m\u001b[0;34m,\u001b[0m \u001b[0mcell\u001b[0m\u001b[0;34m)\u001b[0m\u001b[0;34m\u001b[0m\u001b[0;34m\u001b[0m\u001b[0m\n\u001b[0m\u001b[1;32m   2118\u001b[0m             \u001b[0;32mreturn\u001b[0m \u001b[0mresult\u001b[0m\u001b[0;34m\u001b[0m\u001b[0;34m\u001b[0m\u001b[0m\n\u001b[1;32m   2119\u001b[0m \u001b[0;34m\u001b[0m\u001b[0m\n",
            "\u001b[0;32m/usr/local/lib/python3.6/dist-packages/google/colab/_system_commands.py\u001b[0m in \u001b[0;36m_shell_cell_magic\u001b[0;34m(args, cmd)\u001b[0m\n\u001b[1;32m    110\u001b[0m   \u001b[0mresult\u001b[0m \u001b[0;34m=\u001b[0m \u001b[0m_run_command\u001b[0m\u001b[0;34m(\u001b[0m\u001b[0mcmd\u001b[0m\u001b[0;34m,\u001b[0m \u001b[0mclear_streamed_output\u001b[0m\u001b[0;34m=\u001b[0m\u001b[0;32mFalse\u001b[0m\u001b[0;34m)\u001b[0m\u001b[0;34m\u001b[0m\u001b[0;34m\u001b[0m\u001b[0m\n\u001b[1;32m    111\u001b[0m   \u001b[0;32mif\u001b[0m \u001b[0;32mnot\u001b[0m \u001b[0mparsed_args\u001b[0m\u001b[0;34m.\u001b[0m\u001b[0mignore_errors\u001b[0m\u001b[0;34m:\u001b[0m\u001b[0;34m\u001b[0m\u001b[0;34m\u001b[0m\u001b[0m\n\u001b[0;32m--> 112\u001b[0;31m     \u001b[0mresult\u001b[0m\u001b[0;34m.\u001b[0m\u001b[0mcheck_returncode\u001b[0m\u001b[0;34m(\u001b[0m\u001b[0;34m)\u001b[0m\u001b[0;34m\u001b[0m\u001b[0;34m\u001b[0m\u001b[0m\n\u001b[0m\u001b[1;32m    113\u001b[0m   \u001b[0;32mreturn\u001b[0m \u001b[0mresult\u001b[0m\u001b[0;34m\u001b[0m\u001b[0;34m\u001b[0m\u001b[0m\n\u001b[1;32m    114\u001b[0m \u001b[0;34m\u001b[0m\u001b[0m\n",
            "\u001b[0;32m/usr/local/lib/python3.6/dist-packages/google/colab/_system_commands.py\u001b[0m in \u001b[0;36mcheck_returncode\u001b[0;34m(self)\u001b[0m\n\u001b[1;32m    136\u001b[0m     \u001b[0;32mif\u001b[0m \u001b[0mself\u001b[0m\u001b[0;34m.\u001b[0m\u001b[0mreturncode\u001b[0m\u001b[0;34m:\u001b[0m\u001b[0;34m\u001b[0m\u001b[0;34m\u001b[0m\u001b[0m\n\u001b[1;32m    137\u001b[0m       raise subprocess.CalledProcessError(\n\u001b[0;32m--> 138\u001b[0;31m           returncode=self.returncode, cmd=self.args, output=self.output)\n\u001b[0m\u001b[1;32m    139\u001b[0m \u001b[0;34m\u001b[0m\u001b[0m\n\u001b[1;32m    140\u001b[0m   \u001b[0;32mdef\u001b[0m \u001b[0m_repr_pretty_\u001b[0m\u001b[0;34m(\u001b[0m\u001b[0mself\u001b[0m\u001b[0;34m,\u001b[0m \u001b[0mp\u001b[0m\u001b[0;34m,\u001b[0m \u001b[0mcycle\u001b[0m\u001b[0;34m)\u001b[0m\u001b[0;34m:\u001b[0m  \u001b[0;31m# pylint:disable=unused-argument\u001b[0m\u001b[0;34m\u001b[0m\u001b[0;34m\u001b[0m\u001b[0m\n",
            "\u001b[0;31mCalledProcessError\u001b[0m: Command 'mount -vt sysfs sysfs /sys -o rw,remount\nmount -vt tmpfs tmpfs /sys/fs/cgroup -o rw,remount\nmount -vt cgroup cgroup /sys/fs/cgroup/cpuset -o rw,remount,cpuset' returned non-zero exit status 32."
          ]
        }
      ]
    },
    {
      "cell_type": "code",
      "metadata": {
        "id": "Y2uBoT8zWM1l",
        "outputId": "6e402779-6e80-4c04-8304-e3c8392e899a",
        "colab": {
          "base_uri": "https://localhost:8080/",
          "height": 1000
        }
      },
      "source": [
        "%%shell\n",
        "set -x\n",
        "dockerd -b none --iptables=0 -l warn &\n",
        "for i in $(seq 5); do [ ! -S \"/var/run/docker.sock\" ] && sleep 2 || break; done\n",
        "docker info\n",
        "docker network ls\n",
        "docker pull hello-world\n",
        "docker images\n",
        "docker run hello-world\n",
        "kill $(jobs -p)"
      ],
      "execution_count": null,
      "outputs": [
        {
          "output_type": "stream",
          "text": [
            "+ dockerd -b none --iptables=0 -l warn\n",
            "++ seq 5\n",
            "+ for i in $(seq 5)\n",
            "+ '[' '!' -S /var/run/docker.sock ']'\n",
            "+ sleep 2\n",
            "\u001b[31mERRO\u001b[0m[2020-10-12T23:19:56.341855985Z] failed to change OOM score to -500            \u001b[31merror\u001b[0m=\"write /proc/2318/oom_score_adj: permission denied\"\n",
            "\u001b[33mWARN\u001b[0m[2020-10-12T23:19:56.372539163Z] failed to load plugin io.containerd.snapshotter.v1.devmapper  \u001b[33merror\u001b[0m=\"devmapper not configured\"\n",
            "\u001b[33mWARN\u001b[0m[2020-10-12T23:19:56.388803369Z] could not use snapshotter devmapper in metadata plugin  \u001b[33merror\u001b[0m=\"devmapper not configured\"\n",
            "\u001b[31mERRO\u001b[0m[2020-10-12T23:19:56.434450843Z] 'overlay2' is not supported over overlayfs    \u001b[31mstorage-driver\u001b[0m=overlay2\n",
            "\u001b[31mERRO\u001b[0m[2020-10-12T23:19:56.437796208Z] AUFS was not found in /proc/filesystems       \u001b[31mstorage-driver\u001b[0m=aufs\n",
            "\u001b[31mERRO\u001b[0m[2020-10-12T23:19:56.440950107Z] 'overlay' is not supported over overlayfs     \u001b[31mstorage-driver\u001b[0m=overlay\n",
            "\u001b[33mWARN\u001b[0m[2020-10-12T23:19:56.495981420Z] Unable to find cpuset cgroup in mounts       \n",
            "\u001b[33mWARN\u001b[0m[2020-10-12T23:19:56.539156941Z] Running iptables --wait -t nat -L -n failed with message: `iptables v1.6.1: can't initialize iptables table `nat': Permission denied (you must be root)\n",
            "Perhaps iptables or your kernel needs to be upgraded.`, error: exit status 3 \n",
            "\u001b[33mWARN\u001b[0m[2020-10-12T23:19:56.553201141Z] Failed to create DOCKER-USER chain: iptables failed: iptables -t filter -N DOCKER-USER: iptables v1.6.1: can't initialize iptables table `filter': Permission denied (you must be root)\n",
            "Perhaps iptables or your kernel needs to be upgraded.\n",
            " (exit status 3) \n",
            "\u001b[33mWARN\u001b[0m[2020-10-12T23:19:56.591075683Z] Failed to create DOCKER-USER chain: iptables failed: iptables -t filter -N DOCKER-USER: iptables v1.6.1: can't initialize iptables table `filter': Permission denied (you must be root)\n",
            "Perhaps iptables or your kernel needs to be upgraded.\n",
            " (exit status 3) \n",
            "+ for i in $(seq 5)\n",
            "+ '[' '!' -S /var/run/docker.sock ']'\n",
            "+ break\n",
            "+ docker info\n",
            "Client:\n",
            " Debug Mode: false\n",
            "\n",
            "Server:\n",
            " Containers: 0\n",
            "  Running: 0\n",
            "  Paused: 0\n",
            "  Stopped: 0\n",
            " Images: 0\n",
            " Server Version: 19.03.6\n",
            " Storage Driver: vfs\n",
            " Logging Driver: json-file\n",
            " Cgroup Driver: cgroupfs\n",
            " Plugins:\n",
            "  Volume: local\n",
            "  Network: bridge host ipvlan macvlan null overlay\n",
            "  Log: awslogs fluentd gcplogs gelf journald json-file local logentries splunk syslog\n",
            " Swarm: inactive\n",
            " Runtimes: runc\n",
            " Default Runtime: runc\n",
            " Init Binary: docker-init\n",
            " containerd version: \n",
            " runc version: \n",
            " init version: \n",
            " Security Options:\n",
            "  seccomp\n",
            "   Profile: default\n",
            " Kernel Version: 4.19.112+\n",
            " Operating System: Ubuntu 18.04.5 LTS (containerized)\n",
            " OSType: linux\n",
            " Architecture: x86_64\n",
            " CPUs: 2\n",
            " Total Memory: 12.72GiB\n",
            " Name: 57cf00c00d08\n",
            " ID: RLZT:AD26:3HDW:TI43:BA2G:25WX:WIJO:PL2E:Q34T:BKTX:5WPR:ZIBQ\n",
            " Docker Root Dir: /var/lib/docker\n",
            " Debug Mode: false\n",
            " Registry: https://index.docker.io/v1/\n",
            " Labels:\n",
            " Experimental: false\n",
            " Insecure Registries:\n",
            "  127.0.0.0/8\n",
            " Live Restore Enabled: false\n",
            "\n",
            "WARNING: No cpuset support\n",
            "+ docker network ls\n",
            "NETWORK ID          NAME                DRIVER              SCOPE\n",
            "82638033991f        host                host                local\n",
            "92243dc63a20        none                null                local\n",
            "+ docker pull hello-world\n",
            "Using default tag: latest\n",
            "latest: Pulling from library/hello-world\n",
            "\n",
            "\u001b[1BDigest: sha256:4cf9c47f86df71d48364001ede3a4fcd85ae80ce02ebad74156906caff5378bc\n",
            "Status: Downloaded newer image for hello-world:latest\n",
            "docker.io/library/hello-world:latest\n",
            "+ docker images\n",
            "REPOSITORY          TAG                 IMAGE ID            CREATED             SIZE\n",
            "hello-world         latest              bf756fb1ae65        9 months ago        13.3kB\n",
            "+ docker run hello-world\n",
            "\u001b[31mERRO\u001b[0m[2020-10-12T23:19:59.532368115Z] stream copy error: reading from a closed fifo \n",
            "\u001b[31mERRO\u001b[0m[2020-10-12T23:19:59.532465217Z] stream copy error: reading from a closed fifo \n",
            "\u001b[31mERRO\u001b[0m[2020-10-12T23:19:59.556111433Z] 29382d06d77479de4e9667f08db18a1e5526dd79d85542ba2e4eefc5a6a3ba85 cleanup: failed to delete container from containerd: no such container \n",
            "\u001b[31mERRO\u001b[0m[2020-10-12T23:19:59.556175308Z] Handler for POST /v1.40/containers/29382d06d77479de4e9667f08db18a1e5526dd79d85542ba2e4eefc5a6a3ba85/start returned error: OCI runtime create failed: container_linux.go:349: starting container process caused \"process_linux.go:297: applying cgroup configuration for process caused \\\"mkdir /sys/fs/cgroup/devices/docker: read-only file system\\\"\": unknown \n",
            "docker: Error response from daemon: OCI runtime create failed: container_linux.go:349: starting container process caused \"process_linux.go:297: applying cgroup configuration for process caused \\\"mkdir /sys/fs/cgroup/devices/docker: read-only file system\\\"\": unknown.\n",
            "\u001b[31mERRO\u001b[0m[0000] error waiting for container: context canceled \n",
            "++ jobs -p\n",
            "+ kill 2307\n"
          ],
          "name": "stdout"
        },
        {
          "output_type": "execute_result",
          "data": {
            "text/plain": [
              ""
            ]
          },
          "metadata": {
            "tags": []
          },
          "execution_count": 4
        }
      ]
    }
  ]
}