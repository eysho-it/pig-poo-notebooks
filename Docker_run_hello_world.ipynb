{
  "nbformat": 4,
  "nbformat_minor": 0,
  "metadata": {
    "colab": {
      "provenance": []
    },
    "kernelspec": {
      "name": "python3",
      "display_name": "Python 3"
    }
  },
  "cells": [
    {
      "cell_type": "code",
      "metadata": {
        "id": "UF0v_C5-TxKu",
        "outputId": "50288284-52d8-479d-e073-0d6cd6c892e7",
        "colab": {
          "base_uri": "https://localhost:8080/",
          "height": 1000
        }
      },
      "source": [
        "# Install Docker.\n",
        "!apt-get -qq install docker.io"
      ],
      "execution_count": null,
      "outputs": [
        {
          "output_type": "stream",
          "text": [
            "Preconfiguring packages ...\n",
            "Selecting previously unselected package libnfnetlink0:amd64.\n",
            "(Reading database ... 144617 files and directories currently installed.)\n",
            "Preparing to unpack .../00-libnfnetlink0_1.0.1-3_amd64.deb ...\n",
            "Unpacking libnfnetlink0:amd64 (1.0.1-3) ...\n",
            "Selecting previously unselected package pigz.\n",
            "Preparing to unpack .../01-pigz_2.4-1_amd64.deb ...\n",
            "Unpacking pigz (2.4-1) ...\n",
            "Selecting previously unselected package libmnl0:amd64.\n",
            "Preparing to unpack .../02-libmnl0_1.0.4-2_amd64.deb ...\n",
            "Unpacking libmnl0:amd64 (1.0.4-2) ...\n",
            "Selecting previously unselected package iproute2.\n",
            "Preparing to unpack .../03-iproute2_4.15.0-2ubuntu1.2_amd64.deb ...\n",
            "Unpacking iproute2 (4.15.0-2ubuntu1.2) ...\n",
            "Selecting previously unselected package libatm1:amd64.\n",
            "Preparing to unpack .../04-libatm1_1%3a2.5.1-2build1_amd64.deb ...\n",
            "Unpacking libatm1:amd64 (1:2.5.1-2build1) ...\n",
            "Selecting previously unselected package libxtables12:amd64.\n",
            "Preparing to unpack .../05-libxtables12_1.6.1-2ubuntu2_amd64.deb ...\n",
            "Unpacking libxtables12:amd64 (1.6.1-2ubuntu2) ...\n",
            "Selecting previously unselected package apparmor.\n",
            "Preparing to unpack .../06-apparmor_2.12-4ubuntu5.1_amd64.deb ...\n",
            "Unpacking apparmor (2.12-4ubuntu5.1) ...\n",
            "Selecting previously unselected package libip6tc0:amd64.\n",
            "Preparing to unpack .../07-libip6tc0_1.6.1-2ubuntu2_amd64.deb ...\n",
            "Unpacking libip6tc0:amd64 (1.6.1-2ubuntu2) ...\n",
            "Selecting previously unselected package libiptc0:amd64.\n",
            "Preparing to unpack .../08-libiptc0_1.6.1-2ubuntu2_amd64.deb ...\n",
            "Unpacking libiptc0:amd64 (1.6.1-2ubuntu2) ...\n",
            "Selecting previously unselected package libnetfilter-conntrack3:amd64.\n",
            "Preparing to unpack .../09-libnetfilter-conntrack3_1.0.6-2_amd64.deb ...\n",
            "Unpacking libnetfilter-conntrack3:amd64 (1.0.6-2) ...\n",
            "Selecting previously unselected package iptables.\n",
            "Preparing to unpack .../10-iptables_1.6.1-2ubuntu2_amd64.deb ...\n",
            "Unpacking iptables (1.6.1-2ubuntu2) ...\n",
            "Selecting previously unselected package bridge-utils.\n",
            "Preparing to unpack .../11-bridge-utils_1.5-15ubuntu1_amd64.deb ...\n",
            "Unpacking bridge-utils (1.5-15ubuntu1) ...\n",
            "Selecting previously unselected package cgroupfs-mount.\n",
            "Preparing to unpack .../12-cgroupfs-mount_1.4_all.deb ...\n",
            "Unpacking cgroupfs-mount (1.4) ...\n",
            "Selecting previously unselected package runc.\n",
            "Preparing to unpack .../13-runc_1.0.0~rc10-0ubuntu1~18.04.2_amd64.deb ...\n",
            "Unpacking runc (1.0.0~rc10-0ubuntu1~18.04.2) ...\n",
            "Selecting previously unselected package containerd.\n",
            "Preparing to unpack .../14-containerd_1.3.3-0ubuntu1~18.04.2_amd64.deb ...\n",
            "Unpacking containerd (1.3.3-0ubuntu1~18.04.2) ...\n",
            "Selecting previously unselected package dns-root-data.\n",
            "Preparing to unpack .../15-dns-root-data_2018013001_all.deb ...\n",
            "Unpacking dns-root-data (2018013001) ...\n",
            "Selecting previously unselected package dnsmasq-base.\n",
            "Preparing to unpack .../16-dnsmasq-base_2.79-1_amd64.deb ...\n",
            "Unpacking dnsmasq-base (2.79-1) ...\n",
            "Selecting previously unselected package docker.io.\n",
            "Preparing to unpack .../17-docker.io_19.03.6-0ubuntu1~18.04.1_amd64.deb ...\n",
            "Unpacking docker.io (19.03.6-0ubuntu1~18.04.1) ...\n",
            "Selecting previously unselected package netcat-traditional.\n",
            "Preparing to unpack .../18-netcat-traditional_1.10-41.1_amd64.deb ...\n",
            "Unpacking netcat-traditional (1.10-41.1) ...\n",
            "Selecting previously unselected package netcat.\n",
            "Preparing to unpack .../19-netcat_1.10-41.1_all.deb ...\n",
            "Unpacking netcat (1.10-41.1) ...\n",
            "Selecting previously unselected package ubuntu-fan.\n",
            "Preparing to unpack .../20-ubuntu-fan_0.12.10_all.deb ...\n",
            "Unpacking ubuntu-fan (0.12.10) ...\n",
            "Setting up runc (1.0.0~rc10-0ubuntu1~18.04.2) ...\n",
            "Setting up dns-root-data (2018013001) ...\n",
            "Setting up netcat-traditional (1.10-41.1) ...\n",
            "update-alternatives: using /bin/nc.traditional to provide /bin/nc (nc) in auto mode\n",
            "Setting up libiptc0:amd64 (1.6.1-2ubuntu2) ...\n",
            "Setting up apparmor (2.12-4ubuntu5.1) ...\n",
            "Created symlink /etc/systemd/system/sysinit.target.wants/apparmor.service → /lib/systemd/system/apparmor.service.\n",
            "Setting up cgroupfs-mount (1.4) ...\n",
            "invoke-rc.d: could not determine current runlevel\n",
            "invoke-rc.d: policy-rc.d denied execution of start.\n",
            "Setting up containerd (1.3.3-0ubuntu1~18.04.2) ...\n",
            "Created symlink /etc/systemd/system/multi-user.target.wants/containerd.service → /lib/systemd/system/containerd.service.\n",
            "Setting up bridge-utils (1.5-15ubuntu1) ...\n",
            "Setting up libatm1:amd64 (1:2.5.1-2build1) ...\n",
            "Setting up libxtables12:amd64 (1.6.1-2ubuntu2) ...\n",
            "Setting up netcat (1.10-41.1) ...\n",
            "Setting up libnfnetlink0:amd64 (1.0.1-3) ...\n",
            "Setting up libmnl0:amd64 (1.0.4-2) ...\n",
            "Setting up pigz (2.4-1) ...\n",
            "Setting up libip6tc0:amd64 (1.6.1-2ubuntu2) ...\n",
            "Setting up libnetfilter-conntrack3:amd64 (1.0.6-2) ...\n",
            "Setting up iproute2 (4.15.0-2ubuntu1.2) ...\n",
            "Setting up iptables (1.6.1-2ubuntu2) ...\n",
            "Setting up dnsmasq-base (2.79-1) ...\n",
            "Setting up docker.io (19.03.6-0ubuntu1~18.04.1) ...\n",
            "Adding group `docker' (GID 109) ...\n",
            "Done.\n",
            "Created symlink /etc/systemd/system/sockets.target.wants/docker.socket → /lib/systemd/system/docker.socket.\n",
            "invoke-rc.d: unknown initscript, /etc/init.d/docker not found.\n",
            "invoke-rc.d: could not determine current runlevel\n",
            "Setting up ubuntu-fan (0.12.10) ...\n",
            "Created symlink /etc/systemd/system/multi-user.target.wants/ubuntu-fan.service → /lib/systemd/system/ubuntu-fan.service.\n",
            "invoke-rc.d: could not determine current runlevel\n",
            "invoke-rc.d: policy-rc.d denied execution of start.\n",
            "Processing triggers for man-db (2.8.3-2ubuntu0.1) ...\n",
            "Processing triggers for dbus (1.12.2-1ubuntu1.2) ...\n",
            "Processing triggers for libc-bin (2.27-3ubuntu1.2) ...\n",
            "/sbin/ldconfig.real: /usr/local/lib/python3.6/dist-packages/ideep4py/lib/libmkldnn.so.0 is not a symbolic link\n",
            "\n",
            "Processing triggers for systemd (237-3ubuntu10.42) ...\n"
          ],
          "name": "stdout"
        }
      ]
    },
    {
      "cell_type": "code",
      "metadata": {
        "id": "k0lFhZ3XUOfE",
        "outputId": "db2122e1-7598-434b-bf58-9dc621836a42",
        "colab": {
          "base_uri": "https://localhost:8080/",
          "height": 34
        }
      },
      "source": [
        "# Check version.\n",
        "!docker --version"
      ],
      "execution_count": null,
      "outputs": [
        {
          "output_type": "stream",
          "text": [
            "Docker version 19.03.6, build 369ce74a3c\n"
          ],
          "name": "stdout"
        }
      ]
    },
    {
      "cell_type": "code",
      "metadata": {
        "id": "Rvk8mHQ1UTbN",
        "outputId": "e7aea869-42be-456e-e550-aefe589010db",
        "colab": {
          "base_uri": "https://localhost:8080/",
          "height": 1000
        }
      },
      "source": [
        "%%shell\n",
        "set -x\n",
        "dockerd -b none --iptables=0 -l warn &\n",
        "for i in $(seq 5); do [ ! -S \"/var/run/docker.sock\" ] && sleep 2 || break; done\n",
        "docker info\n",
        "docker network ls\n",
        "docker pull hello-world\n",
        "docker images\n",
        "docker run hello-world\n",
        "kill $(jobs -p)"
      ],
      "execution_count": null,
      "outputs": [
        {
          "output_type": "stream",
          "text": [
            "++ seq 5\n",
            "+ dockerd -b none --iptables=0 -l warn\n",
            "+ for i in $(seq 5)\n",
            "+ '[' '!' -S /var/run/docker.sock ']'\n",
            "+ sleep 2\n",
            "\u001b[31mERRO\u001b[0m[2020-10-08T22:37:51.078238743Z] failed to change OOM score to -500            \u001b[31merror\u001b[0m=\"write /proc/2324/oom_score_adj: permission denied\"\n",
            "\u001b[33mWARN\u001b[0m[2020-10-08T22:37:51.107084831Z] failed to load plugin io.containerd.snapshotter.v1.devmapper  \u001b[33merror\u001b[0m=\"devmapper not configured\"\n",
            "\u001b[33mWARN\u001b[0m[2020-10-08T22:37:51.124736559Z] could not use snapshotter devmapper in metadata plugin  \u001b[33merror\u001b[0m=\"devmapper not configured\"\n",
            "\u001b[31mERRO\u001b[0m[2020-10-08T22:37:51.173455629Z] 'overlay2' is not supported over overlayfs    \u001b[31mstorage-driver\u001b[0m=overlay2\n",
            "\u001b[31mERRO\u001b[0m[2020-10-08T22:37:51.178983624Z] AUFS was not found in /proc/filesystems       \u001b[31mstorage-driver\u001b[0m=aufs\n",
            "\u001b[31mERRO\u001b[0m[2020-10-08T22:37:51.182277059Z] 'overlay' is not supported over overlayfs     \u001b[31mstorage-driver\u001b[0m=overlay\n",
            "\u001b[33mWARN\u001b[0m[2020-10-08T22:37:51.264753336Z] Running iptables --wait -t nat -L -n failed with message: `iptables v1.6.1: can't initialize iptables table `nat': Permission denied (you must be root)\n",
            "Perhaps iptables or your kernel needs to be upgraded.`, error: exit status 3 \n",
            "\u001b[33mWARN\u001b[0m[2020-10-08T22:37:51.279839259Z] Failed to create DOCKER-USER chain: iptables failed: iptables -t filter -N DOCKER-USER: iptables v1.6.1: can't initialize iptables table `filter': Permission denied (you must be root)\n",
            "Perhaps iptables or your kernel needs to be upgraded.\n",
            " (exit status 3) \n",
            "\u001b[33mWARN\u001b[0m[2020-10-08T22:37:51.311956978Z] Failed to create DOCKER-USER chain: iptables failed: iptables -t filter -N DOCKER-USER: iptables v1.6.1: can't initialize iptables table `filter': Permission denied (you must be root)\n",
            "Perhaps iptables or your kernel needs to be upgraded.\n",
            " (exit status 3) \n",
            "+ for i in $(seq 5)\n",
            "+ '[' '!' -S /var/run/docker.sock ']'\n",
            "+ break\n",
            "+ docker info\n",
            "Client:\n",
            " Debug Mode: false\n",
            "\n",
            "Server:\n",
            " Containers: 0\n",
            "  Running: 0\n",
            "  Paused: 0\n",
            "  Stopped: 0\n",
            " Images: 0\n",
            " Server Version: 19.03.6\n",
            " Storage Driver: vfs\n",
            " Logging Driver: json-file\n",
            " Cgroup Driver: cgroupfs\n",
            " Plugins:\n",
            "  Volume: local\n",
            "  Network: bridge host ipvlan macvlan null overlay\n",
            "  Log: awslogs fluentd gcplogs gelf journald json-file local logentries splunk syslog\n",
            " Swarm: inactive\n",
            " Runtimes: runc\n",
            " Default Runtime: runc\n",
            " Init Binary: docker-init\n",
            " containerd version: \n",
            " runc version: \n",
            " init version: \n",
            " Security Options:\n",
            "  seccomp\n",
            "   Profile: default\n",
            " Kernel Version: 4.19.112+\n",
            " Operating System: Ubuntu 18.04.5 LTS (containerized)\n",
            " OSType: linux\n",
            " Architecture: x86_64\n",
            " CPUs: 2\n",
            " Total Memory: 12.72GiB\n",
            " Name: 97a7d98f8518\n",
            " ID: GNP3:DR4P:A7YY:RR3J:LCZ3:TYPD:K34X:KTOB:3HRN:KQEK:634I:GSV7\n",
            " Docker Root Dir: /var/lib/docker\n",
            " Debug Mode: false\n",
            " Registry: https://index.docker.io/v1/\n",
            " Labels:\n",
            " Experimental: false\n",
            " Insecure Registries:\n",
            "  127.0.0.0/8\n",
            " Live Restore Enabled: false\n",
            "\n",
            "+ docker network ls\n",
            "NETWORK ID          NAME                DRIVER              SCOPE\n",
            "63e9b6ae78ab        host                host                local\n",
            "0e96d8792976        none                null                local\n",
            "+ docker pull hello-world\n",
            "Using default tag: latest\n",
            "latest: Pulling from library/hello-world\n",
            "\n",
            "\u001b[1BDigest: sha256:4cf9c47f86df71d48364001ede3a4fcd85ae80ce02ebad74156906caff5378bc\n",
            "Status: Downloaded newer image for hello-world:latest\n",
            "docker.io/library/hello-world:latest\n",
            "+ docker images\n",
            "REPOSITORY          TAG                 IMAGE ID            CREATED             SIZE\n",
            "hello-world         latest              bf756fb1ae65        9 months ago        13.3kB\n",
            "+ docker run hello-world\n",
            "\u001b[31mERRO\u001b[0m[2020-10-08T22:37:54.206831310Z] stream copy error: reading from a closed fifo \n",
            "\u001b[31mERRO\u001b[0m[2020-10-08T22:37:54.206831308Z] stream copy error: reading from a closed fifo \n",
            "\u001b[31mERRO\u001b[0m[2020-10-08T22:37:54.227404556Z] 1f20e0ce8a9bf3bfd9bc194d068a27f6f9dd3625d32be67803ff4e0f97719538 cleanup: failed to delete container from containerd: no such container \n",
            "\u001b[31mERRO\u001b[0m[2020-10-08T22:37:54.227501693Z] Handler for POST /v1.40/containers/1f20e0ce8a9bf3bfd9bc194d068a27f6f9dd3625d32be67803ff4e0f97719538/start returned error: OCI runtime create failed: container_linux.go:349: starting container process caused \"process_linux.go:297: applying cgroup configuration for process caused \\\"mkdir /sys/fs/cgroup/cpuset/docker: read-only file system\\\"\": unknown \n",
            "docker: Error response from daemon: OCI runtime create failed: container_linux.go:349: starting container process caused \"process_linux.go:297: applying cgroup configuration for process caused \\\"mkdir /sys/fs/cgroup/cpuset/docker: read-only file system\\\"\": unknown.\n",
            "\u001b[31mERRO\u001b[0m[0000] error waiting for container: context canceled \n",
            "++ jobs -p\n",
            "+ kill 2313\n"
          ],
          "name": "stdout"
        },
        {
          "output_type": "execute_result",
          "data": {
            "text/plain": [
              ""
            ]
          },
          "metadata": {
            "tags": []
          },
          "execution_count": 3
        }
      ]
    }
  ]
}